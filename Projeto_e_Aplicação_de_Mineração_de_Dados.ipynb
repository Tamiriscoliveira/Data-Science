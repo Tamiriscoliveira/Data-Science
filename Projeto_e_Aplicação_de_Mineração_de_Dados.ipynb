{
  "nbformat": 4,
  "nbformat_minor": 0,
  "metadata": {
    "colab": {
      "name": "Projeto e Aplicação de Mineração de Dados.ipynb",
      "provenance": [],
      "collapsed_sections": [],
      "authorship_tag": "ABX9TyObwg+DExI4CzG11QbIdEMi",
      "include_colab_link": true
    },
    "kernelspec": {
      "name": "python3",
      "display_name": "Python 3"
    },
    "language_info": {
      "name": "python"
    }
  },
  "cells": [
    {
      "cell_type": "markdown",
      "metadata": {
        "id": "view-in-github",
        "colab_type": "text"
      },
      "source": [
        "<a href=\"https://colab.research.google.com/github/Tamiriscoliveira/Data-Science/blob/main/Projeto_e_Aplica%C3%A7%C3%A3o_de_Minera%C3%A7%C3%A3o_de_Dados.ipynb\" target=\"_parent\"><img src=\"https://colab.research.google.com/assets/colab-badge.svg\" alt=\"Open In Colab\"/></a>"
      ]
    },
    {
      "cell_type": "code",
      "metadata": {
        "id": "9MCLP7ar2ra7"
      },
      "source": [
        "# Nome: Tamiris Coutinho de Oliveira\n",
        "# RGM:24235105\n",
        "#PROJETO DE APLICAÇÃO E MINERAÇÃO DE DADOS"
      ],
      "execution_count": null,
      "outputs": []
    },
    {
      "cell_type": "code",
      "metadata": {
        "id": "mWlJXxy_1zDc"
      },
      "source": [
        "#Segue a lista de requisitos do seu projeto:\n",
        "#1 - Descrever o projeto, o propósito, a base de dados que será utilizada e as fases de execução do seu projeto na plataforma escolhida.\n",
        "#2 - Descrever como se deu o processo de extração, tratamento e transformação dos dados e os atributos a serem utilizados no modelo.\n",
        "#3 - Descrever qual algoritmo será utilizado (classificação, regressão, clustering, análise de textos, etc.\n",
        "#4 - Apresentar a visualização, os resultados da execução e uma análise do projeto, se o modelo gerado possuir bom desempenho descreva como poderia ser utilizado no mundo real em interface com outros sistemas"
      ],
      "execution_count": null,
      "outputs": []
    },
    {
      "cell_type": "markdown",
      "metadata": {
        "id": "bO638FtZ2h1L"
      },
      "source": [
        "## PROJETO DE APLICAÇÃO E MINERAÇÃO DE DADOS\n"
      ]
    },
    {
      "cell_type": "markdown",
      "metadata": {
        "id": "zIU683vzio1j"
      },
      "source": [
        "Utilizado um conjunto de dados de  classificação binária simples no qual contém três atributos:\n",
        "<br>\n",
        "idade\n",
        "<br>\n",
        "interesse\n",
        "<br>\n",
        "sucesso\n",
        "<br>\n",
        "Podemos identificar o sucesso de várias pessoas ao aprenderem novos esportes.\n",
        "\n",
        "\n",
        "\n"
      ]
    },
    {
      "cell_type": "code",
      "metadata": {
        "id": "mDqmaaxv77Mh",
        "colab": {
          "base_uri": "https://localhost:8080/",
          "height": 414
        },
        "outputId": "bfd253a0-720c-4cb5-e6cc-488a875a839e"
      },
      "source": [
        "#bibliotecas utilizadas\n",
        "import numpy as np # for performing mathematical calculations behind ML algorithms\n",
        "import matplotlib.pyplot as plot # for visualization\n",
        "import pandas as pd # for handling and cleaning the dataset\n",
        "import seaborn as sns # for visualization\n",
        "import sklearn # for model evaluation and development\n",
        "from sklearn.model_selection import train_test_split\n",
        "from sklearn.ensemble import RandomForestClassifier\n",
        "from sklearn.preprocessing import StandardScaler\n",
        "from sklearn.model_selection import train_test_split, GridSearchCV\n",
        "from sklearn.metrics import f1_score, classification_report, confusion_matrix, roc_curve, auc\n",
        "\n",
        "#conjunto de dados utilizado https://www.kaggle.com/sveneschlbeck/beginners-classification-dataset\n",
        "\n",
        "#Importando o dataset e visualizando as vinte primeiras linhas\n",
        "dados = pd.read_csv('classification.csv')\n",
        "dados\n",
        "\n"
      ],
      "execution_count": null,
      "outputs": [
        {
          "output_type": "execute_result",
          "data": {
            "text/html": [
              "<div>\n",
              "<style scoped>\n",
              "    .dataframe tbody tr th:only-of-type {\n",
              "        vertical-align: middle;\n",
              "    }\n",
              "\n",
              "    .dataframe tbody tr th {\n",
              "        vertical-align: top;\n",
              "    }\n",
              "\n",
              "    .dataframe thead th {\n",
              "        text-align: right;\n",
              "    }\n",
              "</style>\n",
              "<table border=\"1\" class=\"dataframe\">\n",
              "  <thead>\n",
              "    <tr style=\"text-align: right;\">\n",
              "      <th></th>\n",
              "      <th>age</th>\n",
              "      <th>interest</th>\n",
              "      <th>success</th>\n",
              "    </tr>\n",
              "  </thead>\n",
              "  <tbody>\n",
              "    <tr>\n",
              "      <th>0</th>\n",
              "      <td>23.657801</td>\n",
              "      <td>18.859917</td>\n",
              "      <td>0.0</td>\n",
              "    </tr>\n",
              "    <tr>\n",
              "      <th>1</th>\n",
              "      <td>22.573729</td>\n",
              "      <td>17.969223</td>\n",
              "      <td>0.0</td>\n",
              "    </tr>\n",
              "    <tr>\n",
              "      <th>2</th>\n",
              "      <td>32.553424</td>\n",
              "      <td>29.463651</td>\n",
              "      <td>0.0</td>\n",
              "    </tr>\n",
              "    <tr>\n",
              "      <th>3</th>\n",
              "      <td>6.718035</td>\n",
              "      <td>25.704665</td>\n",
              "      <td>1.0</td>\n",
              "    </tr>\n",
              "    <tr>\n",
              "      <th>4</th>\n",
              "      <td>14.401919</td>\n",
              "      <td>16.770856</td>\n",
              "      <td>0.0</td>\n",
              "    </tr>\n",
              "    <tr>\n",
              "      <th>...</th>\n",
              "      <td>...</td>\n",
              "      <td>...</td>\n",
              "      <td>...</td>\n",
              "    </tr>\n",
              "    <tr>\n",
              "      <th>292</th>\n",
              "      <td>27.697220</td>\n",
              "      <td>18.799309</td>\n",
              "      <td>0.0</td>\n",
              "    </tr>\n",
              "    <tr>\n",
              "      <th>293</th>\n",
              "      <td>15.150959</td>\n",
              "      <td>72.000352</td>\n",
              "      <td>1.0</td>\n",
              "    </tr>\n",
              "    <tr>\n",
              "      <th>294</th>\n",
              "      <td>22.264378</td>\n",
              "      <td>68.453459</td>\n",
              "      <td>1.0</td>\n",
              "    </tr>\n",
              "    <tr>\n",
              "      <th>295</th>\n",
              "      <td>25.677420</td>\n",
              "      <td>90.118212</td>\n",
              "      <td>1.0</td>\n",
              "    </tr>\n",
              "    <tr>\n",
              "      <th>296</th>\n",
              "      <td>21.215594</td>\n",
              "      <td>48.265520</td>\n",
              "      <td>1.0</td>\n",
              "    </tr>\n",
              "  </tbody>\n",
              "</table>\n",
              "<p>297 rows × 3 columns</p>\n",
              "</div>"
            ],
            "text/plain": [
              "           age   interest  success\n",
              "0    23.657801  18.859917      0.0\n",
              "1    22.573729  17.969223      0.0\n",
              "2    32.553424  29.463651      0.0\n",
              "3     6.718035  25.704665      1.0\n",
              "4    14.401919  16.770856      0.0\n",
              "..         ...        ...      ...\n",
              "292  27.697220  18.799309      0.0\n",
              "293  15.150959  72.000352      1.0\n",
              "294  22.264378  68.453459      1.0\n",
              "295  25.677420  90.118212      1.0\n",
              "296  21.215594  48.265520      1.0\n",
              "\n",
              "[297 rows x 3 columns]"
            ]
          },
          "metadata": {},
          "execution_count": 3
        }
      ]
    },
    {
      "cell_type": "code",
      "metadata": {
        "id": "X016Pt_SVXdG",
        "colab": {
          "base_uri": "https://localhost:8080/",
          "height": 414
        },
        "outputId": "9352750c-9e7a-429f-fddc-109b52ed7be9"
      },
      "source": [
        "#renomeando os atributos para português\n",
        "a_renomear = {\n",
        "    'age': 'idade',\n",
        "    'interest\t': 'interesse',\n",
        "    'success': 'sucesso'\n",
        "}\n",
        "dados = dados.rename(columns=a_renomear)\n",
        "dados"
      ],
      "execution_count": null,
      "outputs": [
        {
          "output_type": "execute_result",
          "data": {
            "text/html": [
              "<div>\n",
              "<style scoped>\n",
              "    .dataframe tbody tr th:only-of-type {\n",
              "        vertical-align: middle;\n",
              "    }\n",
              "\n",
              "    .dataframe tbody tr th {\n",
              "        vertical-align: top;\n",
              "    }\n",
              "\n",
              "    .dataframe thead th {\n",
              "        text-align: right;\n",
              "    }\n",
              "</style>\n",
              "<table border=\"1\" class=\"dataframe\">\n",
              "  <thead>\n",
              "    <tr style=\"text-align: right;\">\n",
              "      <th></th>\n",
              "      <th>idade</th>\n",
              "      <th>interest</th>\n",
              "      <th>sucesso</th>\n",
              "    </tr>\n",
              "  </thead>\n",
              "  <tbody>\n",
              "    <tr>\n",
              "      <th>0</th>\n",
              "      <td>23.657801</td>\n",
              "      <td>18.859917</td>\n",
              "      <td>0.0</td>\n",
              "    </tr>\n",
              "    <tr>\n",
              "      <th>1</th>\n",
              "      <td>22.573729</td>\n",
              "      <td>17.969223</td>\n",
              "      <td>0.0</td>\n",
              "    </tr>\n",
              "    <tr>\n",
              "      <th>2</th>\n",
              "      <td>32.553424</td>\n",
              "      <td>29.463651</td>\n",
              "      <td>0.0</td>\n",
              "    </tr>\n",
              "    <tr>\n",
              "      <th>3</th>\n",
              "      <td>6.718035</td>\n",
              "      <td>25.704665</td>\n",
              "      <td>1.0</td>\n",
              "    </tr>\n",
              "    <tr>\n",
              "      <th>4</th>\n",
              "      <td>14.401919</td>\n",
              "      <td>16.770856</td>\n",
              "      <td>0.0</td>\n",
              "    </tr>\n",
              "    <tr>\n",
              "      <th>...</th>\n",
              "      <td>...</td>\n",
              "      <td>...</td>\n",
              "      <td>...</td>\n",
              "    </tr>\n",
              "    <tr>\n",
              "      <th>292</th>\n",
              "      <td>27.697220</td>\n",
              "      <td>18.799309</td>\n",
              "      <td>0.0</td>\n",
              "    </tr>\n",
              "    <tr>\n",
              "      <th>293</th>\n",
              "      <td>15.150959</td>\n",
              "      <td>72.000352</td>\n",
              "      <td>1.0</td>\n",
              "    </tr>\n",
              "    <tr>\n",
              "      <th>294</th>\n",
              "      <td>22.264378</td>\n",
              "      <td>68.453459</td>\n",
              "      <td>1.0</td>\n",
              "    </tr>\n",
              "    <tr>\n",
              "      <th>295</th>\n",
              "      <td>25.677420</td>\n",
              "      <td>90.118212</td>\n",
              "      <td>1.0</td>\n",
              "    </tr>\n",
              "    <tr>\n",
              "      <th>296</th>\n",
              "      <td>21.215594</td>\n",
              "      <td>48.265520</td>\n",
              "      <td>1.0</td>\n",
              "    </tr>\n",
              "  </tbody>\n",
              "</table>\n",
              "<p>297 rows × 3 columns</p>\n",
              "</div>"
            ],
            "text/plain": [
              "         idade   interest  sucesso\n",
              "0    23.657801  18.859917      0.0\n",
              "1    22.573729  17.969223      0.0\n",
              "2    32.553424  29.463651      0.0\n",
              "3     6.718035  25.704665      1.0\n",
              "4    14.401919  16.770856      0.0\n",
              "..         ...        ...      ...\n",
              "292  27.697220  18.799309      0.0\n",
              "293  15.150959  72.000352      1.0\n",
              "294  22.264378  68.453459      1.0\n",
              "295  25.677420  90.118212      1.0\n",
              "296  21.215594  48.265520      1.0\n",
              "\n",
              "[297 rows x 3 columns]"
            ]
          },
          "metadata": {},
          "execution_count": 4
        }
      ]
    },
    {
      "cell_type": "code",
      "metadata": {
        "colab": {
          "base_uri": "https://localhost:8080/"
        },
        "id": "UyK67nC_1LiR",
        "outputId": "2eab2919-a8d9-44b3-b8fe-1bb0f1d4a957"
      },
      "source": [
        "#Exibindo as característica física dos dados.A quantidade de linhas e colunas.\n",
        "print(\"O dado possui\", dados.shape[0],\"amostras e\", dados.shape[1], \"Atributos\")"
      ],
      "execution_count": null,
      "outputs": [
        {
          "output_type": "stream",
          "name": "stdout",
          "text": [
            "O dado possui 297 amostras e 3 Atributos\n"
          ]
        }
      ]
    },
    {
      "cell_type": "code",
      "metadata": {
        "colab": {
          "base_uri": "https://localhost:8080/",
          "height": 355
        },
        "id": "FL4mnblXWDNb",
        "outputId": "5ccfeeb6-cd3b-4393-ddad-619fd45801f2"
      },
      "source": [
        "#exibindo os dez primeiros atributos\n",
        "dados.head(10)"
      ],
      "execution_count": null,
      "outputs": [
        {
          "output_type": "execute_result",
          "data": {
            "text/html": [
              "<div>\n",
              "<style scoped>\n",
              "    .dataframe tbody tr th:only-of-type {\n",
              "        vertical-align: middle;\n",
              "    }\n",
              "\n",
              "    .dataframe tbody tr th {\n",
              "        vertical-align: top;\n",
              "    }\n",
              "\n",
              "    .dataframe thead th {\n",
              "        text-align: right;\n",
              "    }\n",
              "</style>\n",
              "<table border=\"1\" class=\"dataframe\">\n",
              "  <thead>\n",
              "    <tr style=\"text-align: right;\">\n",
              "      <th></th>\n",
              "      <th>idade</th>\n",
              "      <th>interest</th>\n",
              "      <th>sucesso</th>\n",
              "    </tr>\n",
              "  </thead>\n",
              "  <tbody>\n",
              "    <tr>\n",
              "      <th>0</th>\n",
              "      <td>23.657801</td>\n",
              "      <td>18.859917</td>\n",
              "      <td>0.0</td>\n",
              "    </tr>\n",
              "    <tr>\n",
              "      <th>1</th>\n",
              "      <td>22.573729</td>\n",
              "      <td>17.969223</td>\n",
              "      <td>0.0</td>\n",
              "    </tr>\n",
              "    <tr>\n",
              "      <th>2</th>\n",
              "      <td>32.553424</td>\n",
              "      <td>29.463651</td>\n",
              "      <td>0.0</td>\n",
              "    </tr>\n",
              "    <tr>\n",
              "      <th>3</th>\n",
              "      <td>6.718035</td>\n",
              "      <td>25.704665</td>\n",
              "      <td>1.0</td>\n",
              "    </tr>\n",
              "    <tr>\n",
              "      <th>4</th>\n",
              "      <td>14.401919</td>\n",
              "      <td>16.770856</td>\n",
              "      <td>0.0</td>\n",
              "    </tr>\n",
              "    <tr>\n",
              "      <th>5</th>\n",
              "      <td>17.457907</td>\n",
              "      <td>21.765215</td>\n",
              "      <td>0.0</td>\n",
              "    </tr>\n",
              "    <tr>\n",
              "      <th>6</th>\n",
              "      <td>20.027969</td>\n",
              "      <td>73.454460</td>\n",
              "      <td>1.0</td>\n",
              "    </tr>\n",
              "    <tr>\n",
              "      <th>7</th>\n",
              "      <td>30.295138</td>\n",
              "      <td>62.901113</td>\n",
              "      <td>1.0</td>\n",
              "    </tr>\n",
              "    <tr>\n",
              "      <th>8</th>\n",
              "      <td>15.128978</td>\n",
              "      <td>32.402677</td>\n",
              "      <td>0.0</td>\n",
              "    </tr>\n",
              "    <tr>\n",
              "      <th>9</th>\n",
              "      <td>30.179457</td>\n",
              "      <td>58.982492</td>\n",
              "      <td>1.0</td>\n",
              "    </tr>\n",
              "  </tbody>\n",
              "</table>\n",
              "</div>"
            ],
            "text/plain": [
              "       idade   interest  sucesso\n",
              "0  23.657801  18.859917      0.0\n",
              "1  22.573729  17.969223      0.0\n",
              "2  32.553424  29.463651      0.0\n",
              "3   6.718035  25.704665      1.0\n",
              "4  14.401919  16.770856      0.0\n",
              "5  17.457907  21.765215      0.0\n",
              "6  20.027969  73.454460      1.0\n",
              "7  30.295138  62.901113      1.0\n",
              "8  15.128978  32.402677      0.0\n",
              "9  30.179457  58.982492      1.0"
            ]
          },
          "metadata": {},
          "execution_count": 6
        }
      ]
    },
    {
      "cell_type": "code",
      "metadata": {
        "colab": {
          "base_uri": "https://localhost:8080/",
          "height": 355
        },
        "id": "vJdryRcJUfRK",
        "outputId": "ce117670-13ed-4004-f8ca-fd1be22a0977"
      },
      "source": [
        "#exibindo os dez ultimos atributos\n",
        "dados.tail(10)"
      ],
      "execution_count": null,
      "outputs": [
        {
          "output_type": "execute_result",
          "data": {
            "text/html": [
              "<div>\n",
              "<style scoped>\n",
              "    .dataframe tbody tr th:only-of-type {\n",
              "        vertical-align: middle;\n",
              "    }\n",
              "\n",
              "    .dataframe tbody tr th {\n",
              "        vertical-align: top;\n",
              "    }\n",
              "\n",
              "    .dataframe thead th {\n",
              "        text-align: right;\n",
              "    }\n",
              "</style>\n",
              "<table border=\"1\" class=\"dataframe\">\n",
              "  <thead>\n",
              "    <tr style=\"text-align: right;\">\n",
              "      <th></th>\n",
              "      <th>idade</th>\n",
              "      <th>interest</th>\n",
              "      <th>sucesso</th>\n",
              "    </tr>\n",
              "  </thead>\n",
              "  <tbody>\n",
              "    <tr>\n",
              "      <th>287</th>\n",
              "      <td>34.360465</td>\n",
              "      <td>29.310443</td>\n",
              "      <td>0.0</td>\n",
              "    </tr>\n",
              "    <tr>\n",
              "      <th>288</th>\n",
              "      <td>16.166632</td>\n",
              "      <td>24.010528</td>\n",
              "      <td>0.0</td>\n",
              "    </tr>\n",
              "    <tr>\n",
              "      <th>289</th>\n",
              "      <td>16.671398</td>\n",
              "      <td>40.172301</td>\n",
              "      <td>0.0</td>\n",
              "    </tr>\n",
              "    <tr>\n",
              "      <th>290</th>\n",
              "      <td>19.016591</td>\n",
              "      <td>-0.552276</td>\n",
              "      <td>0.0</td>\n",
              "    </tr>\n",
              "    <tr>\n",
              "      <th>291</th>\n",
              "      <td>13.027910</td>\n",
              "      <td>13.735581</td>\n",
              "      <td>0.0</td>\n",
              "    </tr>\n",
              "    <tr>\n",
              "      <th>292</th>\n",
              "      <td>27.697220</td>\n",
              "      <td>18.799309</td>\n",
              "      <td>0.0</td>\n",
              "    </tr>\n",
              "    <tr>\n",
              "      <th>293</th>\n",
              "      <td>15.150959</td>\n",
              "      <td>72.000352</td>\n",
              "      <td>1.0</td>\n",
              "    </tr>\n",
              "    <tr>\n",
              "      <th>294</th>\n",
              "      <td>22.264378</td>\n",
              "      <td>68.453459</td>\n",
              "      <td>1.0</td>\n",
              "    </tr>\n",
              "    <tr>\n",
              "      <th>295</th>\n",
              "      <td>25.677420</td>\n",
              "      <td>90.118212</td>\n",
              "      <td>1.0</td>\n",
              "    </tr>\n",
              "    <tr>\n",
              "      <th>296</th>\n",
              "      <td>21.215594</td>\n",
              "      <td>48.265520</td>\n",
              "      <td>1.0</td>\n",
              "    </tr>\n",
              "  </tbody>\n",
              "</table>\n",
              "</div>"
            ],
            "text/plain": [
              "         idade   interest  sucesso\n",
              "287  34.360465  29.310443      0.0\n",
              "288  16.166632  24.010528      0.0\n",
              "289  16.671398  40.172301      0.0\n",
              "290  19.016591  -0.552276      0.0\n",
              "291  13.027910  13.735581      0.0\n",
              "292  27.697220  18.799309      0.0\n",
              "293  15.150959  72.000352      1.0\n",
              "294  22.264378  68.453459      1.0\n",
              "295  25.677420  90.118212      1.0\n",
              "296  21.215594  48.265520      1.0"
            ]
          },
          "metadata": {},
          "execution_count": 7
        }
      ]
    },
    {
      "cell_type": "code",
      "metadata": {
        "id": "a7Z9QaKYEaF2"
      },
      "source": [
        ""
      ],
      "execution_count": null,
      "outputs": []
    },
    {
      "cell_type": "code",
      "metadata": {
        "id": "X5aWKnLcEba0"
      },
      "source": [
        ""
      ],
      "execution_count": null,
      "outputs": []
    },
    {
      "cell_type": "code",
      "metadata": {
        "id": "Ga57xCdC31aM",
        "colab": {
          "base_uri": "https://localhost:8080/",
          "height": 294
        },
        "outputId": "4b5e6ef9-1e70-4bc7-cfd5-863a9f442d3e"
      },
      "source": [
        "#Extraindo medidas estatisticas do conjunto de dados\n",
        "dados.describe()"
      ],
      "execution_count": null,
      "outputs": [
        {
          "output_type": "execute_result",
          "data": {
            "text/html": [
              "<div>\n",
              "<style scoped>\n",
              "    .dataframe tbody tr th:only-of-type {\n",
              "        vertical-align: middle;\n",
              "    }\n",
              "\n",
              "    .dataframe tbody tr th {\n",
              "        vertical-align: top;\n",
              "    }\n",
              "\n",
              "    .dataframe thead th {\n",
              "        text-align: right;\n",
              "    }\n",
              "</style>\n",
              "<table border=\"1\" class=\"dataframe\">\n",
              "  <thead>\n",
              "    <tr style=\"text-align: right;\">\n",
              "      <th></th>\n",
              "      <th>idade</th>\n",
              "      <th>interest</th>\n",
              "      <th>sucesso</th>\n",
              "    </tr>\n",
              "  </thead>\n",
              "  <tbody>\n",
              "    <tr>\n",
              "      <th>count</th>\n",
              "      <td>297.000000</td>\n",
              "      <td>297.000000</td>\n",
              "      <td>297.000000</td>\n",
              "    </tr>\n",
              "    <tr>\n",
              "      <th>mean</th>\n",
              "      <td>23.709718</td>\n",
              "      <td>46.986527</td>\n",
              "      <td>0.569024</td>\n",
              "    </tr>\n",
              "    <tr>\n",
              "      <th>std</th>\n",
              "      <td>8.864000</td>\n",
              "      <td>21.956447</td>\n",
              "      <td>0.496049</td>\n",
              "    </tr>\n",
              "    <tr>\n",
              "      <th>min</th>\n",
              "      <td>2.347560</td>\n",
              "      <td>-0.852800</td>\n",
              "      <td>0.000000</td>\n",
              "    </tr>\n",
              "    <tr>\n",
              "      <th>25%</th>\n",
              "      <td>17.002148</td>\n",
              "      <td>28.689067</td>\n",
              "      <td>0.000000</td>\n",
              "    </tr>\n",
              "    <tr>\n",
              "      <th>50%</th>\n",
              "      <td>23.283644</td>\n",
              "      <td>45.695926</td>\n",
              "      <td>1.000000</td>\n",
              "    </tr>\n",
              "    <tr>\n",
              "      <th>75%</th>\n",
              "      <td>30.661149</td>\n",
              "      <td>65.171876</td>\n",
              "      <td>1.000000</td>\n",
              "    </tr>\n",
              "    <tr>\n",
              "      <th>max</th>\n",
              "      <td>45.773729</td>\n",
              "      <td>97.175508</td>\n",
              "      <td>1.000000</td>\n",
              "    </tr>\n",
              "  </tbody>\n",
              "</table>\n",
              "</div>"
            ],
            "text/plain": [
              "            idade    interest     sucesso\n",
              "count  297.000000  297.000000  297.000000\n",
              "mean    23.709718   46.986527    0.569024\n",
              "std      8.864000   21.956447    0.496049\n",
              "min      2.347560   -0.852800    0.000000\n",
              "25%     17.002148   28.689067    0.000000\n",
              "50%     23.283644   45.695926    1.000000\n",
              "75%     30.661149   65.171876    1.000000\n",
              "max     45.773729   97.175508    1.000000"
            ]
          },
          "metadata": {},
          "execution_count": 8
        }
      ]
    },
    {
      "cell_type": "code",
      "metadata": {
        "colab": {
          "base_uri": "https://localhost:8080/",
          "height": 141
        },
        "id": "gLLi53tPRPK8",
        "outputId": "38a5a6c3-41d1-41fa-fb7e-ee0506aad839"
      },
      "source": [
        "#Extraindo as medidas estatisticas invertendo a matriz de medidas\n",
        "dados.describe().transpose()"
      ],
      "execution_count": null,
      "outputs": [
        {
          "output_type": "execute_result",
          "data": {
            "text/html": [
              "<div>\n",
              "<style scoped>\n",
              "    .dataframe tbody tr th:only-of-type {\n",
              "        vertical-align: middle;\n",
              "    }\n",
              "\n",
              "    .dataframe tbody tr th {\n",
              "        vertical-align: top;\n",
              "    }\n",
              "\n",
              "    .dataframe thead th {\n",
              "        text-align: right;\n",
              "    }\n",
              "</style>\n",
              "<table border=\"1\" class=\"dataframe\">\n",
              "  <thead>\n",
              "    <tr style=\"text-align: right;\">\n",
              "      <th></th>\n",
              "      <th>count</th>\n",
              "      <th>mean</th>\n",
              "      <th>std</th>\n",
              "      <th>min</th>\n",
              "      <th>25%</th>\n",
              "      <th>50%</th>\n",
              "      <th>75%</th>\n",
              "      <th>max</th>\n",
              "    </tr>\n",
              "  </thead>\n",
              "  <tbody>\n",
              "    <tr>\n",
              "      <th>idade</th>\n",
              "      <td>297.0</td>\n",
              "      <td>23.709718</td>\n",
              "      <td>8.864000</td>\n",
              "      <td>2.34756</td>\n",
              "      <td>17.002148</td>\n",
              "      <td>23.283644</td>\n",
              "      <td>30.661149</td>\n",
              "      <td>45.773729</td>\n",
              "    </tr>\n",
              "    <tr>\n",
              "      <th>interest</th>\n",
              "      <td>297.0</td>\n",
              "      <td>46.986527</td>\n",
              "      <td>21.956447</td>\n",
              "      <td>-0.85280</td>\n",
              "      <td>28.689067</td>\n",
              "      <td>45.695926</td>\n",
              "      <td>65.171876</td>\n",
              "      <td>97.175508</td>\n",
              "    </tr>\n",
              "    <tr>\n",
              "      <th>sucesso</th>\n",
              "      <td>297.0</td>\n",
              "      <td>0.569024</td>\n",
              "      <td>0.496049</td>\n",
              "      <td>0.00000</td>\n",
              "      <td>0.000000</td>\n",
              "      <td>1.000000</td>\n",
              "      <td>1.000000</td>\n",
              "      <td>1.000000</td>\n",
              "    </tr>\n",
              "  </tbody>\n",
              "</table>\n",
              "</div>"
            ],
            "text/plain": [
              "          count       mean        std  ...        50%        75%        max\n",
              "idade     297.0  23.709718   8.864000  ...  23.283644  30.661149  45.773729\n",
              "interest  297.0  46.986527  21.956447  ...  45.695926  65.171876  97.175508\n",
              "sucesso   297.0   0.569024   0.496049  ...   1.000000   1.000000   1.000000\n",
              "\n",
              "[3 rows x 8 columns]"
            ]
          },
          "metadata": {},
          "execution_count": 9
        }
      ]
    },
    {
      "cell_type": "code",
      "metadata": {
        "colab": {
          "base_uri": "https://localhost:8080/"
        },
        "id": "rSgKiXlxRu2m",
        "outputId": "8030b8c2-88ef-4839-ac5a-be2d4815d8e6"
      },
      "source": [
        "#Exibindo a composição do conjunto de dados,a quantidade de registro e seu tipo de dado\n",
        "dados.info()"
      ],
      "execution_count": null,
      "outputs": [
        {
          "output_type": "stream",
          "name": "stdout",
          "text": [
            "<class 'pandas.core.frame.DataFrame'>\n",
            "RangeIndex: 297 entries, 0 to 296\n",
            "Data columns (total 3 columns):\n",
            " #   Column    Non-Null Count  Dtype  \n",
            "---  ------    --------------  -----  \n",
            " 0   idade     297 non-null    float64\n",
            " 1   interest  297 non-null    float64\n",
            " 2   sucesso   297 non-null    float64\n",
            "dtypes: float64(3)\n",
            "memory usage: 7.1 KB\n"
          ]
        }
      ]
    },
    {
      "cell_type": "code",
      "metadata": {
        "id": "T-X7qiuFDyB3"
      },
      "source": [
        ""
      ],
      "execution_count": null,
      "outputs": []
    },
    {
      "cell_type": "markdown",
      "metadata": {
        "id": "Xnd4TYmtD2_g"
      },
      "source": [
        "#Correlação "
      ]
    },
    {
      "cell_type": "code",
      "metadata": {
        "colab": {
          "base_uri": "https://localhost:8080/",
          "height": 487
        },
        "id": "Bx5cadkzSFzV",
        "outputId": "1c65edf2-1250-416b-e6f8-b8a8fc6548d8"
      },
      "source": [
        "#calculando a correlação dos dez primeiros atributos\n",
        "plot.figure(figsize=(8,8))\n",
        "medidas = dados.columns[1:11]\n",
        "medidas_correlatas = dados[medidas].corr()\n",
        "sns.heatmap(medidas_correlatas, cmap='coolwarm', annot=True, square=True)\n",
        "\n",
        "#A imagem exibe o mapa de calor da correlação dos vinte primeiros atributos, identifica aonde teve maior atividade na correlação."
      ],
      "execution_count": null,
      "outputs": [
        {
          "output_type": "execute_result",
          "data": {
            "text/plain": [
              "<matplotlib.axes._subplots.AxesSubplot at 0x7f3de01b32d0>"
            ]
          },
          "metadata": {},
          "execution_count": 24
        },
        {
          "output_type": "display_data",
          "data": {
            "image/png": "[encoded data removed]",
            "text/plain": [
              "<Figure size 576x576 with 2 Axes>"
            ]
          },
          "metadata": {
            "needs_background": "light"
          }
        }
      ]
    },
    {
      "cell_type": "code",
      "metadata": {
        "id": "QnV5cVlcgb9J",
        "colab": {
          "base_uri": "https://localhost:8080/",
          "height": 141
        },
        "outputId": "6719e0d3-a2b6-4ca9-bc92-4273d1369811"
      },
      "source": [
        "#Identificando a relação entre os atributos utilizando a matriz de correlação\n",
        "matriz_corr = dados.corr()\n",
        "matriz_corr"
      ],
      "execution_count": null,
      "outputs": [
        {
          "output_type": "execute_result",
          "data": {
            "text/html": [
              "<div>\n",
              "<style scoped>\n",
              "    .dataframe tbody tr th:only-of-type {\n",
              "        vertical-align: middle;\n",
              "    }\n",
              "\n",
              "    .dataframe tbody tr th {\n",
              "        vertical-align: top;\n",
              "    }\n",
              "\n",
              "    .dataframe thead th {\n",
              "        text-align: right;\n",
              "    }\n",
              "</style>\n",
              "<table border=\"1\" class=\"dataframe\">\n",
              "  <thead>\n",
              "    <tr style=\"text-align: right;\">\n",
              "      <th></th>\n",
              "      <th>idade</th>\n",
              "      <th>interest</th>\n",
              "      <th>sucesso</th>\n",
              "    </tr>\n",
              "  </thead>\n",
              "  <tbody>\n",
              "    <tr>\n",
              "      <th>idade</th>\n",
              "      <td>1.000000</td>\n",
              "      <td>0.142876</td>\n",
              "      <td>0.173307</td>\n",
              "    </tr>\n",
              "    <tr>\n",
              "      <th>interest</th>\n",
              "      <td>0.142876</td>\n",
              "      <td>1.000000</td>\n",
              "      <td>0.760703</td>\n",
              "    </tr>\n",
              "    <tr>\n",
              "      <th>sucesso</th>\n",
              "      <td>0.173307</td>\n",
              "      <td>0.760703</td>\n",
              "      <td>1.000000</td>\n",
              "    </tr>\n",
              "  </tbody>\n",
              "</table>\n",
              "</div>"
            ],
            "text/plain": [
              "             idade  interest   sucesso\n",
              "idade     1.000000  0.142876  0.173307\n",
              "interest  0.142876  1.000000  0.760703\n",
              "sucesso   0.173307  0.760703  1.000000"
            ]
          },
          "metadata": {},
          "execution_count": 12
        }
      ]
    },
    {
      "cell_type": "code",
      "metadata": {
        "id": "DLG5fQvpuB2E",
        "colab": {
          "base_uri": "https://localhost:8080/",
          "height": 300
        },
        "outputId": "c75cc7f7-6d2d-40db-f067-66e4905cb06e"
      },
      "source": [
        "#Distribuição de valores\n",
        "plot.figure(figsize=(6,4))\n",
        "sns.countplot(x=dados.sucesso, data=dados)\n",
        "plot.xlabel('Sucesso', fontsize=12)\n",
        "plot.ylabel('Total')"
      ],
      "execution_count": null,
      "outputs": [
        {
          "output_type": "execute_result",
          "data": {
            "text/plain": [
              "Text(0, 0.5, 'Total')"
            ]
          },
          "metadata": {},
          "execution_count": 13
        },
        {
          "output_type": "display_data",
          "data": {
            "image/png": "[encoded data removed]",
            "text/plain": [
              "<Figure size 432x288 with 1 Axes>"
            ]
          },
          "metadata": {
            "needs_background": "light"
          }
        }
      ]
    },
    {
      "cell_type": "code",
      "metadata": {
        "id": "Hg-nl4P_E-OE"
      },
      "source": [
        ""
      ],
      "execution_count": null,
      "outputs": []
    },
    {
      "cell_type": "code",
      "metadata": {
        "colab": {
          "base_uri": "https://localhost:8080/",
          "height": 296
        },
        "id": "QLdWs9yy4Mnb",
        "outputId": "2de0c552-3b2d-42d7-8fff-127f4e16b9f5"
      },
      "source": [
        "#a distribuição dos valores com relação a idade e o sucesso do aprendizado\n",
        "sns.boxplot(x='sucesso', y='idade', data=dados)"
      ],
      "execution_count": null,
      "outputs": [
        {
          "output_type": "execute_result",
          "data": {
            "text/plain": [
              "<matplotlib.axes._subplots.AxesSubplot at 0x7f3de04ff050>"
            ]
          },
          "metadata": {},
          "execution_count": 14
        },
        {
          "output_type": "display_data",
          "data": {
            "image/png": "[encoded data removed]",
            "text/plain": [
              "<Figure size 432x288 with 1 Axes>"
            ]
          },
          "metadata": {
            "needs_background": "light"
          }
        }
      ]
    },
    {
      "cell_type": "code",
      "metadata": {
        "colab": {
          "base_uri": "https://localhost:8080/",
          "height": 296
        },
        "id": "IqsFjKJ14VoR",
        "outputId": "9699dcb9-f394-4ad6-a85e-aa8723414133"
      },
      "source": [
        "#Aqui identificamos o sucesso com relação ao interesses.\n",
        "sns.boxplot(x='sucesso', y='interest', data=dados)"
      ],
      "execution_count": null,
      "outputs": [
        {
          "output_type": "execute_result",
          "data": {
            "text/plain": [
              "<matplotlib.axes._subplots.AxesSubplot at 0x7f3dea9b48d0>"
            ]
          },
          "metadata": {},
          "execution_count": 15
        },
        {
          "output_type": "display_data",
          "data": {
            "image/png": "[encoded data removed]",
            "text/plain": [
              "<Figure size 432x288 with 1 Axes>"
            ]
          },
          "metadata": {
            "needs_background": "light"
          }
        }
      ]
    },
    {
      "cell_type": "code",
      "metadata": {
        "colab": {
          "base_uri": "https://localhost:8080/",
          "height": 202
        },
        "id": "S8y_Wcxn4dNj",
        "outputId": "f210bd8b-36f0-4d2d-99c8-d6d2cfaaf41f"
      },
      "source": [
        "dados.head()"
      ],
      "execution_count": null,
      "outputs": [
        {
          "output_type": "execute_result",
          "data": {
            "text/html": [
              "<div>\n",
              "<style scoped>\n",
              "    .dataframe tbody tr th:only-of-type {\n",
              "        vertical-align: middle;\n",
              "    }\n",
              "\n",
              "    .dataframe tbody tr th {\n",
              "        vertical-align: top;\n",
              "    }\n",
              "\n",
              "    .dataframe thead th {\n",
              "        text-align: right;\n",
              "    }\n",
              "</style>\n",
              "<table border=\"1\" class=\"dataframe\">\n",
              "  <thead>\n",
              "    <tr style=\"text-align: right;\">\n",
              "      <th></th>\n",
              "      <th>idade</th>\n",
              "      <th>interest</th>\n",
              "      <th>sucesso</th>\n",
              "    </tr>\n",
              "  </thead>\n",
              "  <tbody>\n",
              "    <tr>\n",
              "      <th>0</th>\n",
              "      <td>23.657801</td>\n",
              "      <td>18.859917</td>\n",
              "      <td>0.0</td>\n",
              "    </tr>\n",
              "    <tr>\n",
              "      <th>1</th>\n",
              "      <td>22.573729</td>\n",
              "      <td>17.969223</td>\n",
              "      <td>0.0</td>\n",
              "    </tr>\n",
              "    <tr>\n",
              "      <th>2</th>\n",
              "      <td>32.553424</td>\n",
              "      <td>29.463651</td>\n",
              "      <td>0.0</td>\n",
              "    </tr>\n",
              "    <tr>\n",
              "      <th>3</th>\n",
              "      <td>6.718035</td>\n",
              "      <td>25.704665</td>\n",
              "      <td>1.0</td>\n",
              "    </tr>\n",
              "    <tr>\n",
              "      <th>4</th>\n",
              "      <td>14.401919</td>\n",
              "      <td>16.770856</td>\n",
              "      <td>0.0</td>\n",
              "    </tr>\n",
              "  </tbody>\n",
              "</table>\n",
              "</div>"
            ],
            "text/plain": [
              "       idade   interest  sucesso\n",
              "0  23.657801  18.859917      0.0\n",
              "1  22.573729  17.969223      0.0\n",
              "2  32.553424  29.463651      0.0\n",
              "3   6.718035  25.704665      1.0\n",
              "4  14.401919  16.770856      0.0"
            ]
          },
          "metadata": {},
          "execution_count": 16
        }
      ]
    },
    {
      "cell_type": "code",
      "metadata": {
        "id": "kAa6CuRWFKM7"
      },
      "source": [
        ""
      ],
      "execution_count": null,
      "outputs": []
    },
    {
      "cell_type": "markdown",
      "metadata": {
        "id": "FWVded6GCK3h"
      },
      "source": [
        "#PRE PROCESSAMENTOS"
      ]
    },
    {
      "cell_type": "code",
      "metadata": {
        "colab": {
          "base_uri": "https://localhost:8080/",
          "height": 202
        },
        "id": "irD80m2U59Wk",
        "outputId": "93847e5b-2fdd-47a3-e034-0b69c8f7a55d"
      },
      "source": [
        "#Dimensionamento dos dados\n",
        "scaler = StandardScaler()\n",
        "dados[['idade', 'interest']] = scaler.fit_transform(dados[['idade', 'interest']])\n",
        "dados.head()"
      ],
      "execution_count": null,
      "outputs": [
        {
          "output_type": "execute_result",
          "data": {
            "text/html": [
              "<div>\n",
              "<style scoped>\n",
              "    .dataframe tbody tr th:only-of-type {\n",
              "        vertical-align: middle;\n",
              "    }\n",
              "\n",
              "    .dataframe tbody tr th {\n",
              "        vertical-align: top;\n",
              "    }\n",
              "\n",
              "    .dataframe thead th {\n",
              "        text-align: right;\n",
              "    }\n",
              "</style>\n",
              "<table border=\"1\" class=\"dataframe\">\n",
              "  <thead>\n",
              "    <tr style=\"text-align: right;\">\n",
              "      <th></th>\n",
              "      <th>idade</th>\n",
              "      <th>interest</th>\n",
              "      <th>sucesso</th>\n",
              "    </tr>\n",
              "  </thead>\n",
              "  <tbody>\n",
              "    <tr>\n",
              "      <th>0</th>\n",
              "      <td>-0.005867</td>\n",
              "      <td>-1.283180</td>\n",
              "      <td>0.0</td>\n",
              "    </tr>\n",
              "    <tr>\n",
              "      <th>1</th>\n",
              "      <td>-0.128374</td>\n",
              "      <td>-1.323815</td>\n",
              "      <td>0.0</td>\n",
              "    </tr>\n",
              "    <tr>\n",
              "      <th>2</th>\n",
              "      <td>0.999394</td>\n",
              "      <td>-0.799421</td>\n",
              "      <td>0.0</td>\n",
              "    </tr>\n",
              "    <tr>\n",
              "      <th>3</th>\n",
              "      <td>-1.920167</td>\n",
              "      <td>-0.970912</td>\n",
              "      <td>1.0</td>\n",
              "    </tr>\n",
              "    <tr>\n",
              "      <th>4</th>\n",
              "      <td>-1.051840</td>\n",
              "      <td>-1.378487</td>\n",
              "      <td>0.0</td>\n",
              "    </tr>\n",
              "  </tbody>\n",
              "</table>\n",
              "</div>"
            ],
            "text/plain": [
              "      idade  interest  sucesso\n",
              "0 -0.005867 -1.283180      0.0\n",
              "1 -0.128374 -1.323815      0.0\n",
              "2  0.999394 -0.799421      0.0\n",
              "3 -1.920167 -0.970912      1.0\n",
              "4 -1.051840 -1.378487      0.0"
            ]
          },
          "metadata": {},
          "execution_count": 17
        }
      ]
    },
    {
      "cell_type": "code",
      "metadata": {
        "colab": {
          "base_uri": "https://localhost:8080/"
        },
        "id": "UUOcYgBd8rX1",
        "outputId": "4d4fae71-04a9-422a-8e4b-0e96227b2c06"
      },
      "source": [
        "#divisão os dados para o treino\n",
        "\n",
        "X = dados.drop('sucesso', axis=1)\n",
        "y = dados.sucesso\n",
        "\n",
        "X_train, X_test, y_train, y_test = train_test_split(X, y, test_size = 0.33, random_state=42)\n",
        "X_train.shape, y_train.shape, X_test.shape, y_test.shape"
      ],
      "execution_count": null,
      "outputs": [
        {
          "output_type": "execute_result",
          "data": {
            "text/plain": [
              "((198, 2), (198,), (99, 2), (99,))"
            ]
          },
          "metadata": {},
          "execution_count": 18
        }
      ]
    },
    {
      "cell_type": "code",
      "metadata": {
        "id": "UWywGmfY9fQ8"
      },
      "source": [
        "#modelando os dados\n",
        "params = {\n",
        "    'n_estimators': range(50, 250, 50),\n",
        "    'max_depth': range(1, 7, 2), \n",
        "    'n_jobs': [-2], \n",
        "    'min_samples_split': range(1, 10, 2)\n",
        "}"
      ],
      "execution_count": null,
      "outputs": []
    },
    {
      "cell_type": "code",
      "metadata": {
        "colab": {
          "base_uri": "https://localhost:8080/"
        },
        "id": "RgOFiypo96y9",
        "outputId": "d9c83f29-597b-4034-e256-e5538b05105b"
      },
      "source": [
        "RF = RandomForestClassifier()\n",
        "grid_clf = GridSearchCV(RF, param_grid=params, cv=5)\n",
        "\n",
        "grid_clf.fit(X_train, y_train)\n",
        "clf = grid_clf.best_estimator_\n",
        "\n",
        "clf\n"
      ],
      "execution_count": null,
      "outputs": [
        {
          "output_type": "stream",
          "name": "stderr",
          "text": [
            "/usr/local/lib/python3.7/dist-packages/sklearn/model_selection/_validation.py:372: FitFailedWarning: \n",
            "60 fits failed out of a total of 300.\n",
            "The score on these train-test partitions for these parameters will be set to nan.\n",
            "If these failures are not expected, you can try to debug them by setting error_score='raise'.\n",
            "\n",
            "Below are more details about the failures:\n",
            "--------------------------------------------------------------------------------\n",
            "60 fits failed with the following error:\n",
            "Traceback (most recent call last):\n",
            "  File \"/usr/local/lib/python3.7/dist-packages/sklearn/model_selection/_validation.py\", line 681, in _fit_and_score\n",
            "    estimator.fit(X_train, y_train, **fit_params)\n",
            "  File \"/usr/local/lib/python3.7/dist-packages/sklearn/ensemble/_forest.py\", line 459, in fit\n",
            "    for i, t in enumerate(trees)\n",
            "  File \"/usr/local/lib/python3.7/dist-packages/joblib/parallel.py\", line 1043, in __call__\n",
            "    if self.dispatch_one_batch(iterator):\n",
            "  File \"/usr/local/lib/python3.7/dist-packages/joblib/parallel.py\", line 861, in dispatch_one_batch\n",
            "    self._dispatch(tasks)\n",
            "  File \"/usr/local/lib/python3.7/dist-packages/joblib/parallel.py\", line 779, in _dispatch\n",
            "    job = self._backend.apply_async(batch, callback=cb)\n",
            "  File \"/usr/local/lib/python3.7/dist-packages/joblib/_parallel_backends.py\", line 208, in apply_async\n",
            "    result = ImmediateResult(func)\n",
            "  File \"/usr/local/lib/python3.7/dist-packages/joblib/_parallel_backends.py\", line 572, in __init__\n",
            "    self.results = batch()\n",
            "  File \"/usr/local/lib/python3.7/dist-packages/joblib/parallel.py\", line 263, in __call__\n",
            "    for func, args, kwargs in self.items]\n",
            "  File \"/usr/local/lib/python3.7/dist-packages/joblib/parallel.py\", line 263, in <listcomp>\n",
            "    for func, args, kwargs in self.items]\n",
            "  File \"/usr/local/lib/python3.7/dist-packages/sklearn/utils/fixes.py\", line 211, in __call__\n",
            "    return self.function(*args, **kwargs)\n",
            "  File \"/usr/local/lib/python3.7/dist-packages/sklearn/ensemble/_forest.py\", line 185, in _parallel_build_trees\n",
            "    tree.fit(X, y, sample_weight=curr_sample_weight, check_input=False)\n",
            "  File \"/usr/local/lib/python3.7/dist-packages/sklearn/tree/_classes.py\", line 942, in fit\n",
            "    X_idx_sorted=X_idx_sorted,\n",
            "  File \"/usr/local/lib/python3.7/dist-packages/sklearn/tree/_classes.py\", line 254, in fit\n",
            "    % self.min_samples_split\n",
            "ValueError: min_samples_split must be an integer greater than 1 or a float in (0.0, 1.0]; got the integer 1\n",
            "\n",
            "  warnings.warn(some_fits_failed_message, FitFailedWarning)\n",
            "/usr/local/lib/python3.7/dist-packages/sklearn/model_selection/_search.py:972: UserWarning: One or more of the test scores are non-finite: [       nan        nan        nan        nan 0.87807692 0.91910256\n",
            " 0.89871795 0.91910256 0.92423077 0.91910256 0.91910256 0.90371795\n",
            " 0.90910256 0.91410256 0.91910256 0.91910256 0.91410256 0.91910256\n",
            " 0.91410256 0.91910256        nan        nan        nan        nan\n",
            " 0.91910256 0.91910256 0.91910256 0.92410256 0.91410256 0.91397436\n",
            " 0.91897436 0.91910256 0.91384615 0.91910256 0.91397436 0.91910256\n",
            " 0.91397436 0.91910256 0.91897436 0.91910256        nan        nan\n",
            "        nan        nan 0.92923077 0.92923077 0.93435897 0.92923077\n",
            " 0.92923077 0.93435897 0.93435897 0.92923077 0.92423077 0.92410256\n",
            " 0.92410256 0.92923077 0.92410256 0.92410256 0.92923077 0.92923077]\n",
            "  category=UserWarning,\n"
          ]
        },
        {
          "output_type": "execute_result",
          "data": {
            "text/plain": [
              "RandomForestClassifier(max_depth=5, min_samples_split=3, n_estimators=150,\n",
              "                       n_jobs=-2)"
            ]
          },
          "metadata": {},
          "execution_count": 20
        }
      ]
    },
    {
      "cell_type": "code",
      "metadata": {
        "colab": {
          "base_uri": "https://localhost:8080/"
        },
        "id": "tPQdF0Fw-AOj",
        "outputId": "4c9a8b47-668a-4d30-9f86-8d05cc5a801b"
      },
      "source": [
        "clf.fit(X_train, y_train)"
      ],
      "execution_count": null,
      "outputs": [
        {
          "output_type": "execute_result",
          "data": {
            "text/plain": [
              "RandomForestClassifier(max_depth=5, min_samples_split=3, n_estimators=150,\n",
              "                       n_jobs=-2)"
            ]
          },
          "metadata": {},
          "execution_count": 21
        }
      ]
    },
    {
      "cell_type": "code",
      "metadata": {
        "id": "MPT6r2HkFULA"
      },
      "source": [
        ""
      ],
      "execution_count": null,
      "outputs": []
    },
    {
      "cell_type": "markdown",
      "metadata": {
        "id": "LlFglTlTCo33"
      },
      "source": [
        "#Podemos identicar no modelo que o desempenho é satisfátorio com apenas um objeto foi detectado incorretamente"
      ]
    },
    {
      "cell_type": "code",
      "metadata": {
        "colab": {
          "base_uri": "https://localhost:8080/"
        },
        "id": "NdqzYgDF-kQM",
        "outputId": "73dbe280-9d62-4d86-d747-43e63ae471f2"
      },
      "source": [
        "pred = clf.predict(X_test)\n",
        "pred_proba = clf.predict_proba(X_test)\n",
        "print(classification_report(y_test, pred))"
      ],
      "execution_count": null,
      "outputs": [
        {
          "output_type": "stream",
          "name": "stdout",
          "text": [
            "              precision    recall  f1-score   support\n",
            "\n",
            "         0.0       1.00      0.97      0.98        32\n",
            "         1.0       0.99      1.00      0.99        67\n",
            "\n",
            "    accuracy                           0.99        99\n",
            "   macro avg       0.99      0.98      0.99        99\n",
            "weighted avg       0.99      0.99      0.99        99\n",
            "\n"
          ]
        }
      ]
    },
    {
      "cell_type": "code",
      "metadata": {
        "colab": {
          "base_uri": "https://localhost:8080/",
          "height": 337
        },
        "id": "TDqAU0h7-pZE",
        "outputId": "1e6a7b73-8013-4ebe-f13f-c7386e4a479a"
      },
      "source": [
        "plot.figure(figsize=(6, 5))\n",
        "sns.heatmap(confusion_matrix(y_test, pred), annot=True)\n"
      ],
      "execution_count": null,
      "outputs": [
        {
          "output_type": "execute_result",
          "data": {
            "text/plain": [
              "<matplotlib.axes._subplots.AxesSubplot at 0x7f3de0410450>"
            ]
          },
          "metadata": {},
          "execution_count": 23
        },
        {
          "output_type": "display_data",
          "data": {
            "image/png": "[encoded data removed]",
            "text/plain": [
              "<Figure size 432x360 with 2 Axes>"
            ]
          },
          "metadata": {
            "needs_background": "light"
          }
        }
      ]
    },
    {
      "cell_type": "code",
      "metadata": {
        "id": "lEetZ-pI_mQH"
      },
      "source": [
        ""
      ],
      "execution_count": null,
      "outputs": []
    }
  ]
}